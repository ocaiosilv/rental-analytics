{
 "cells": [
  {
   "cell_type": "markdown",
   "id": "d157db6b",
   "metadata": {},
   "source": [
    "Analysing the data gathered with my WebScrapper\n",
    "==============================================="
   ]
  },
  {
   "cell_type": "markdown",
   "id": "988241c4",
   "metadata": {},
   "source": [
    "For this notebook, I followed GitHub examples for the organization and format."
   ]
  },
  {
   "cell_type": "code",
   "execution_count": null,
   "id": "01bc44f8",
   "metadata": {},
   "outputs": [],
   "source": [
    "import pandas as pd\n",
    "import matplotlib.pyplot as plt\n",
    "import seaborn as sns\n",
    "plt.close(\"all\")\n",
    "import numpy as np\n",
    "import os "
   ]
  },
  {
   "cell_type": "markdown",
   "id": "21b3082f",
   "metadata": {},
   "source": [
    "Loading our csv file in a pandas data frame."
   ]
  },
  {
   "cell_type": "code",
   "execution_count": null,
   "id": "38d2eb43",
   "metadata": {},
   "outputs": [],
   "source": [
    "catalogFilePath = os.path.join(\"..\",\"data\", \"catalog.csv\")\n",
    "df = pd.read_csv(catalogFilePath)"
   ]
  },
  {
   "cell_type": "markdown",
   "id": "a814610c",
   "metadata": {},
   "source": [
    "#### Metrics and Analysis\n"
   ]
  },
  {
   "cell_type": "markdown",
   "id": "27af6d3e",
   "metadata": {},
   "source": [
    "  #### -- Average price:\n",
    "  \n",
    "  #####    Rent, condo fee and total per neigborhood"
   ]
  },
  {
   "cell_type": "code",
   "execution_count": null,
   "id": "afb95e7a",
   "metadata": {},
   "outputs": [],
   "source": [
    "colsToSum = [\"rent\", \"condo_fee\", \"total_monthly_value\"]\n",
    "nhAvgPricesResults = df.groupby(\"neighborhood\")[colsToSum].mean()\n",
    "display(nhAvgPricesResults.round(1))\n",
    "\n",
    "nhAvgPricesResults.round(1).plot(kind=\"bar\", figsize=(20,6))\n",
    "plt.ylabel(\"Average Price\")\n",
    "plt.show()\n"
   ]
  },
  {
   "cell_type": "markdown",
   "id": "5db01fc4",
   "metadata": {},
   "source": [
    " #####    Price per m² per neigborhood"
   ]
  },
  {
   "cell_type": "code",
   "execution_count": null,
   "id": "55a2969f",
   "metadata": {},
   "outputs": [],
   "source": [
    "df[\"pricePerM²\"] = df[\"total_monthly_value\"]/df[\"property_size\"]\n",
    "colsToSum = [\"pricePerM²\"]\n",
    "nhresultsPricepPerM2= df.groupby(\"neighborhood\")[colsToSum].mean()\n",
    "display(nhresultsPricepPerM2.round(decimals=0))\n",
    "\n",
    "nhresultsPricepPerM2.round(0).boxplot(column=\"pricePerM²\", by=\"neighborhood\", figsize=(12,6))\n",
    "plt.xticks(rotation=90)\n",
    "plt.ylabel(\"Average price\")\n",
    "plt.show()"
   ]
  },
  {
   "cell_type": "markdown",
   "id": "3b0ac254",
   "metadata": {},
   "source": [
    "  #### -- Size distribuition comparison per neighborhood"
   ]
  },
  {
   "cell_type": "code",
   "execution_count": null,
   "id": "8c4bec85",
   "metadata": {},
   "outputs": [],
   "source": [
    "colsToSum = [\"property_size\",  \"bedrooms\", \"bathrooms\", \"parking_spaces\"]\n",
    "nhresultsSize = df.groupby(\"neighborhood\")[colsToSum].mean()\n",
    "display(nhresultsSize.round(decimals=0))"
   ]
  },
  {
   "cell_type": "markdown",
   "id": "979316f4",
   "metadata": {},
   "source": [
    " ##### How the number of [bedrooms, bathrooms, parking_spaces] affects the rental price\n",
    "\n",
    " The comparison uses the average quantity of rentals with that especific combination of [bedrooms, bathrooms, parking_spaces] in other to be more precise about how consistent are the values(The larger the DataFrame, the more precise the values), also, just to be more pratical about the "
   ]
  },
  {
   "cell_type": "markdown",
   "id": "93974f3a",
   "metadata": {},
   "source": [
    "Below are two implementations I encountered: the first one before i research on possible approaches to implement the comparison, and the second one after.\n",
    "\n"
   ]
  },
  {
   "cell_type": "code",
   "execution_count": null,
   "id": "2b071808",
   "metadata": {},
   "outputs": [],
   "source": [
    "combinations = {\n",
    "    \"bedrooms\": [],\n",
    "    \"bathrooms\": [],\n",
    "    \"parking_spaces\": [],\n",
    "    \"total_monthly_value\": [],\n",
    "    \"count\": []\n",
    "}\n",
    "for i in range(5):\n",
    "    for j in range(5):\n",
    "        for k in range(5):\n",
    "            cc = (\n",
    "                df[(df[\"bedrooms\"] == i) & \n",
    "                (df[\"bathrooms\"] == j) & \n",
    "                (df[\"parking_spaces\"] == k)]\n",
    "            )\n",
    "            count = len(cc)\n",
    "            if not cc.empty:       \n",
    "                newcc = cc[\"total_monthly_value\"].mean().round(1).item()\n",
    "                combinations[\"bedrooms\"].append(i)\n",
    "                combinations[\"bathrooms\"].append(j)\n",
    "                combinations[\"parking_spaces\"].append(k)\n",
    "                combinations[\"total_monthly_value\"].append(newcc)\n",
    "                combinations[\"count\"].append(count)\n",
    "\n",
    "sizeCompDataFrame = pd.DataFrame(data=combinations)\n",
    "averageCount = sizeCompDataFrame[\"count\"].mean().round(0).item()\n",
    "filteredSizeCompDataFrame = sizeCompDataFrame[sizeCompDataFrame[\"count\"] >= averageCount]\n",
    "display(filteredSizeCompDataFrame.drop('count', axis=1))\n",
    "\n"
   ]
  },
  {
   "cell_type": "code",
   "execution_count": null,
   "id": "a62f9d94",
   "metadata": {},
   "outputs": [],
   "source": [
    "groupbyAvarege_prices = df.groupby([\"bedrooms\", \"bathrooms\", \"parking_spaces\"])[\"total_monthly_value\"].mean().reset_index(name=\"mean_price\")\n",
    "counts = df.groupby([\"bedrooms\", \"bathrooms\", \"parking_spaces\"]).size().reset_index(name=\"count\")\n",
    "\n",
    "combinations = counts.merge(groupbyAvarege_prices, on=[\"bedrooms\", \"bathrooms\", \"parking_spaces\"]) #Merging the two lists, to get the total month value and the count of the number of rentals that satisfies one combination.\n",
    "\n",
    "averageCount = combinations[\"count\"].median() #The average count to have a better consistency of values after use .mean().\n",
    "filteredCombinations = combinations[combinations[\"count\"] >= averageCount]\n",
    "display(filteredCombinations.drop('count', axis=1).style.hide(axis=\"index\"))\n",
    "\n",
    "groups = filteredCombinations.groupby(['bedrooms', 'bathrooms'])['mean_price'].mean().unstack()\n",
    "\n",
    "\n",
    "## https://www.youtube.com/watch?v=0U9cs2V-Mqc&pp=ygUWaGVhdG1hcCBzZWFib3JuIHB5dGhvbg%3D%3D, tutorial that i used and had the inspiration to do a heatmap.\n",
    "heatmap_data = filteredCombinations.pivot_table(index='bathrooms', columns='bedrooms', values='mean_price')\n",
    "\n",
    "plt.figure(figsize=(8,6))\n",
    "sns.heatmap(heatmap_data, annot=True, fmt=\".0f\", cmap='YlGnBu')\n",
    "plt.title('Heatmap of Rental Price')\n",
    "plt.xlabel('Bedrooms')\n",
    "plt.ylabel('Bathrooms')\n",
    "plt.show()"
   ]
  }
 ],
 "metadata": {
  "kernelspec": {
   "display_name": "base",
   "language": "python",
   "name": "python3"
  },
  "language_info": {
   "codemirror_mode": {
    "name": "ipython",
    "version": 3
   },
   "file_extension": ".py",
   "mimetype": "text/x-python",
   "name": "python",
   "nbconvert_exporter": "python",
   "pygments_lexer": "ipython3",
   "version": "3.13.5"
  }
 },
 "nbformat": 4,
 "nbformat_minor": 5
}
