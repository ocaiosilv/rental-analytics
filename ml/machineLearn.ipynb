{
 "cells": [
  {
   "cell_type": "markdown",
   "id": "1c64ab80",
   "metadata": {},
   "source": [
    "###### Project Overview\n",
    "\n",
    "This project was meant to be a study project, like an MVP of what a real project involving data and machine learning should look like. The dataset has some gaps, as it is not abundant and lacks diverse features to make the dataframe denser.\n",
    "\n",
    "While studying how to set up machine learning for this project, I realized it could be trickier than expected. With the current dataset, the models can only provide \"shallow\" predictions. I had to make a choice: either continue the MVP as it is, or make the dataset richer by adding neighborhood scores based on nearby points of interest, such as hospitals, supermarkets, shopping centers, parks, and beaches (as it should be).\n",
    "\n",
    "Although enriching the dataset is tempting, I chose to continue with the MVP as it is for my first project. This way, I can complete a functional project while continuing to deepen my understanding of machine learning. From my initial studies of what ML really is, I realized that using a ready-made model is simple, but truly understanding how it works mathematically—and recognizing that preprocessing the data is equally important, as it directly affects model performance—will be the focus of my future GitHub projects.\n",
    "\n",
    "##### **Notebook Overview**\n",
    "\n",
    "**In this notebook, I will show the usage and how to set up two different models (Linear Regression and Decision Trees) using Scikit-Learn, and Matplotlib to plot the results and help explain them.**"
   ]
  },
  {
   "cell_type": "code",
   "execution_count": null,
   "id": "a85b7b19",
   "metadata": {},
   "outputs": [],
   "source": [
    "import pandas as pd\n",
    "import matplotlib.pyplot as plt\n",
    "import os "
   ]
  },
  {
   "cell_type": "markdown",
   "id": "2f66b0e6",
   "metadata": {},
   "source": [
    "Loading our csv file in a pandas data frame."
   ]
  },
  {
   "cell_type": "code",
   "execution_count": null,
   "id": "9cee6ef8",
   "metadata": {},
   "outputs": [],
   "source": [
    "plt.close(\"all\")\n",
    "catalogFilePath = os.path.join(\"..\",\"data\", \"catalog.csv\")\n",
    "catalog = pd.read_csv(catalogFilePath)\n",
    "#Quick way to remember the content of our dataset\n",
    "display(catalog[[\"total_monthly_value\", \"property_size\"]].head(5))"
   ]
  },
  {
   "cell_type": "markdown",
   "id": "0e522389",
   "metadata": {},
   "source": [
    "### Linear Regression Model ::"
   ]
  },
  {
   "cell_type": "markdown",
   "id": "2c1bf2e1",
   "metadata": {},
   "source": [
    "The linear regression model uses the y = mx + c approach, for a dependent variable Y, it finds a relationship with one or more independent variables X. This is capable, because the model analyzes correlations between X and Y in the dataset, than the model fits a straight line to the data points in the XY plane. This line can then be used to predict future values of Y from new X values.\n"
   ]
  },
  {
   "cell_type": "markdown",
   "id": "9e1efe46",
   "metadata": {},
   "source": [
    "The first step by setting up this model it's to select the Dependent and Independent variables, y and x, that in our case will be, the base rent and the m² of the property."
   ]
  },
  {
   "cell_type": "code",
   "execution_count": null,
   "id": "86b26f3a",
   "metadata": {},
   "outputs": [],
   "source": [
    "X = catalog[[\"total_monthly_value\"]]\n",
    "y = catalog[[\"property_size\"]]\n",
    "plt.scatter(X, y)\n",
    "plt.xlabel(\"monthly rent value\")\n",
    "plt.ylabel(\"property size\")"
   ]
  },
  {
   "cell_type": "markdown",
   "id": "cb05cd56",
   "metadata": {},
   "source": [
    "As we can see, we got some outliers, which are data points that are in a large discrepancy whitin the others in the same range, also we've got an BASE trend difference, this is, the X values and y values starts to be more and more distant, and both of these things are not great for the model to predict. Because, the outliers can do the regression line start to superestimate or subestimate due the large discrepancy, and the base trend difference between X,y breaks the assumption that the errors are evenly distributed. This makes the model less reliable, since its predictions will be accurate only in a certain range but fail for higher or lower values. \n"
   ]
  },
  {
   "cell_type": "markdown",
   "id": "1d05a42e",
   "metadata": {},
   "source": [
    "Then, we will need to add up a step in the linear regression model, the preprocessing step, i chose to use the QuantileTransformer as it was the one used in the freecodecamp scikit-learn crash course that i took. The Quantile aproach transforms features using quantiles information. This method transforms the features to follow a uniform or a normal distribution.\n",
    "###### (https://scikit-learn.org/stable/modules/generated/sklearn.preprocessing.QuantileTransformer.html) for more information."
   ]
  },
  {
   "cell_type": "code",
   "execution_count": null,
   "id": "d288955b",
   "metadata": {},
   "outputs": [],
   "source": [
    "import numpy as np\n",
    "from sklearn.preprocessing import QuantileTransformer\n",
    "from sklearn.linear_model import LinearRegression\n",
    "\n",
    "x_adpt = X.values.reshape(-1, 1)\n",
    "y_adpt = y.values.reshape(-1, 1)\n",
    "\n",
    "#Scaling X  with QuantileTransformer\n",
    "# n_quantiles = number of training samples (prevents warnings)\n",
    "# output_distribution='uniform' -> transforms data to be between 0 and 1\n",
    "qauntilet_X = QuantileTransformer(n_quantiles=len(x_adpt), output_distribution='uniform')\n",
    "X_scaled = qauntilet_X.fit_transform(x_adpt)\n",
    "\n",
    "quantilet_y = QuantileTransformer(n_quantiles=len(y_adpt), output_distribution='uniform')\n",
    "y_scaled = quantilet_y.fit_transform(y_adpt)\n",
    "\n",
    "plt.scatter(X_scaled, y_scaled)\n",
    "plt.xlabel(\"property_size (scaled 0-1)\")\n",
    "plt.ylabel(\"total_monthly_value (scaled 0-1)\")\n",
    "plt.title(\"Treino escalado\")\n",
    "plt.show()\n",
    "\n"
   ]
  },
  {
   "cell_type": "markdown",
   "id": "eafc9a50",
   "metadata": {},
   "source": [
    "In the plot its visible a pattern forming, almost intuitively we can see it. \n",
    "\n",
    "The next step is setting up the our first prediction"
   ]
  },
  {
   "cell_type": "code",
   "execution_count": null,
   "id": "daa73c5b",
   "metadata": {},
   "outputs": [],
   "source": [
    "LR = LinearRegression()\n",
    "LR.fit(X_scaled, y_scaled.ravel())\n",
    "\n",
    "# --- Predict and inverse transform to original scale ---\n",
    "y_pred_scaled = LR.predict(X_scaled)\n",
    "y_pred = quantilet_y.inverse_transform(y_pred_scaled.reshape(-1,1)).ravel()\n",
    "\n",
    "# --- Plot original vs predicted ---\n",
    "plt.figure(figsize=(10,5))\n",
    "\n",
    "# Original data\n",
    "plt.scatter(x_adpt, y_adpt, color='blue', alpha=0.6, label='Original')\n",
    "\n",
    "# Predicted data\n",
    "plt.scatter(x_adpt, y_pred, color='red', alpha=0.6, label='Predicted')\n",
    "\n",
    "plt.xlabel(\"Property Size\")\n",
    "plt.ylabel(\"Total Monthly Value\")\n",
    "plt.title(\"Original vs Predicted after Quantile + Linear Regression\")\n",
    "plt.legend()\n",
    "plt.show()"
   ]
  }
 ],
 "metadata": {
  "kernelspec": {
   "display_name": "base",
   "language": "python",
   "name": "python3"
  },
  "language_info": {
   "codemirror_mode": {
    "name": "ipython",
    "version": 3
   },
   "file_extension": ".py",
   "mimetype": "text/x-python",
   "name": "python",
   "nbconvert_exporter": "python",
   "pygments_lexer": "ipython3",
   "version": "3.13.5"
  }
 },
 "nbformat": 4,
 "nbformat_minor": 5
}
