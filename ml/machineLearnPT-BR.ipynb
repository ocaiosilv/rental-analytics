{
 "cells": [
  {
   "cell_type": "markdown",
   "id": "1c64ab80",
   "metadata": {},
   "source": [
    "###### Visão Geral do Projeto\n",
    "\n",
    "Este projeto foi pensado como um projeto de estudo, um MVP (Produto Mínimo Viável) de como deveria ser um projeto real envolvendo dados e aprendizado de máquina. O conjunto de dados tem algumas lacunas, pois não é abundante e carece de variáveis diversas para tornar o dataframe mais denso.\n",
    "\n",
    "Enquanto estudava como configurar aprendizado de máquina para este projeto, percebi que poderia ser mais complicado do que o esperado. Com o conjunto de dados atual, os modelos só conseguem fornecer previsões \"rasas\". Tive que fazer uma escolha: ou continuar com o MVP como está, ou enriquecer o dataset adicionando notas de vizinhança baseadas em pontos de interesse próximos, como hospitais, supermercados, shoppings, parques e praias (como deveria ser).\n",
    "\n",
    "Apesar de tentador enriquecer o dataset, escolhi continuar com o MVP como está para o meu primeiro projeto. Assim, consigo concluir um projeto funcional ao mesmo tempo em que aprofundo meu entendimento de aprendizado de máquina. Pelos meus estudos iniciais sobre o que realmente é ML, percebi que usar um modelo pronto é simples, mas entender de fato como ele funciona matematicamente — e reconhecer que o pré-processamento dos dados é igualmente importante, já que afeta diretamente o desempenho do modelo — será o foco dos meus próximos projetos no GitHub.\n",
    "\n",
    "##### **Visão Geral do Notebook**\n",
    "\n",
    "**Neste notebook, vou mostrar o uso e a configuração de dois modelos diferentes (Regressão Linear e Árvores de Decisão) usando o Scikit-Learn, além do Matplotlib para plotar os resultados e ajudar a explicá-los.**"
   ]
  },
  {
   "cell_type": "code",
   "execution_count": null,
   "id": "ff03cf41",
   "metadata": {
    "vscode": {
     "languageId": "plaintext"
    }
   },
   "outputs": [],
   "source": [
    "import pandas as pd\n",
    "import matplotlib.pyplot as plt\n",
    "import os "
   ]
  },
  {
   "cell_type": "markdown",
   "id": "2f66b0e6",
   "metadata": {},
   "source": [
    "Carregando nosso arquivo CSV em um dataframe do pandas."
   ]
  },
  {
   "cell_type": "code",
   "execution_count": null,
   "id": "a2e466eb",
   "metadata": {
    "vscode": {
     "languageId": "plaintext"
    }
   },
   "outputs": [],
   "source": [
    "plt.close(\"all\")\n",
    "catalogFilePath = os.path.join(\"..\",\"data\", \"catalog.csv\")\n",
    "catalog = pd.read_csv(catalogFilePath)\n",
    "#Quick way to remember the content of our dataset\n",
    "display(catalog[[\"total_monthly_value\", \"property_size\"]].head(5))"
   ]
  },
  {
   "cell_type": "markdown",
   "id": "0e522389",
   "metadata": {},
   "source": [
    "### Modelo de Regressão Linear ::"
   ]
  },
  {
   "cell_type": "markdown",
   "id": "2c1bf2e1",
   "metadata": {},
   "source": [
    "O modelo de regressão linear usa a abordagem y = mx + c. Para uma variável dependente Y, ele encontra uma relação com uma ou mais variáveis independentes X. Isso é possível porque o modelo analisa correlações entre X e Y no conjunto de dados e, então, ajusta uma linha reta aos pontos no plano XY. Essa linha pode ser usada para prever valores futuros de Y a partir de novos valores de X.\n"
   ]
  },
  {
   "cell_type": "markdown",
   "id": "9e1efe46",
   "metadata": {},
   "source": [
    "O primeiro passo na configuração deste modelo é selecionar as variáveis Dependente e Independente, y e x, que no nosso caso serão o valor do aluguel base e os m² do imóvel."
   ]
  },
  {
   "cell_type": "code",
   "execution_count": null,
   "id": "6d70b4ff",
   "metadata": {
    "vscode": {
     "languageId": "plaintext"
    }
   },
   "outputs": [],
   "source": [
    "X = catalog[[\"total_monthly_value\"]]\n",
    "y = catalog[[\"property_size\"]]\n",
    "plt.scatter(X, y)\n",
    "plt.xlabel(\"monthly rent value\")\n",
    "plt.ylabel(\"property size\")"
   ]
  },
  {
   "cell_type": "markdown",
   "id": "cb05cd56",
   "metadata": {},
   "source": [
    "Como podemos ver, temos alguns outliers, que são pontos de dados muito discrepantes em relação aos outros na mesma faixa. Além disso, temos uma diferença de tendência base, ou seja, os valores de X e Y começam a ficar cada vez mais distantes, e ambos esses fatores não são bons para o modelo prever. Isso porque os outliers podem fazer a linha de regressão superestimar ou subestimar devido à discrepância, e a diferença de tendência base entre X e Y quebra a suposição de que os erros são distribuídos de forma uniforme. Isso torna o modelo menos confiável, já que suas previsões serão precisas apenas em um certo intervalo, mas falharão em valores muito altos ou baixos. \n"
   ]
  },
  {
   "cell_type": "markdown",
   "id": "1d05a42e",
   "metadata": {},
   "source": [
    "Portanto, será necessário adicionar uma etapa no modelo de regressão linear: o pré-processamento. Escolhi usar o **QuantileTransformer**, pois foi o método apresentado no curso rápido de scikit-learn do FreeCodeCamp que fiz. A abordagem de quantis transforma os atributos usando informações de quantis, convertendo-os para seguir uma distribuição uniforme ou normal.\n",
    "###### (https://scikit-learn.org/stable/modules/generated/sklearn.preprocessing.QuantileTransformer.html) para mais informações."
   ]
  },
  {
   "cell_type": "code",
   "execution_count": null,
   "id": "e8af53e5",
   "metadata": {
    "vscode": {
     "languageId": "plaintext"
    }
   },
   "outputs": [],
   "source": [
    "import numpy as np\n",
    "from sklearn.preprocessing import QuantileTransformer\n",
    "from sklearn.linear_model import LinearRegression\n",
    "\n",
    "x_adpt = X.values.reshape(-1, 1)\n",
    "y_adpt = y.values.reshape(-1, 1)\n",
    "\n",
    "#Scaling X  with QuantileTransformer\n",
    "# n_quantiles = number of training samples (prevents warnings)\n",
    "# output_distribution='uniform' -> transforms data to be between 0 and 1\n",
    "qauntilet_X = QuantileTransformer(n_quantiles=len(x_adpt), output_distribution='uniform')\n",
    "X_scaled = qauntilet_X.fit_transform(x_adpt)\n",
    "\n",
    "quantilet_y = QuantileTransformer(n_quantiles=len(y_adpt), output_distribution='uniform')\n",
    "y_scaled = quantilet_y.fit_transform(y_adpt)\n",
    "\n",
    "plt.scatter(X_scaled, y_scaled)\n",
    "plt.xlabel(\"property_size (scaled 0-1)\")\n",
    "plt.ylabel(\"total_monthly_value (scaled 0-1)\")\n",
    "plt.title(\"Treino escalado\")\n",
    "plt.show()\n",
    "\n"
   ]
  },
  {
   "cell_type": "markdown",
   "id": "eafc9a50",
   "metadata": {},
   "source": [
    "No gráfico, é visível um padrão se formando, quase intuitivamente conseguimos enxergá-lo. \n",
    "\n",
    "O próximo passo é configurar nossa primeira previsão."
   ]
  },
  {
   "cell_type": "code",
   "execution_count": null,
   "id": "ef315cc1",
   "metadata": {
    "vscode": {
     "languageId": "plaintext"
    }
   },
   "outputs": [],
   "source": [
    "LR = LinearRegression()\n",
    "LR.fit(X_scaled, y_scaled.ravel())\n",
    "\n",
    "# --- Predict and inverse transform to original scale ---\n",
    "y_pred_scaled = LR.predict(X_scaled)\n",
    "y_pred = quantilet_y.inverse_transform(y_pred_scaled.reshape(-1,1)).ravel()\n",
    "\n",
    "# --- Plot original vs predicted ---\n",
    "plt.figure(figsize=(10,5))\n",
    "\n",
    "# Original data\n",
    "plt.scatter(x_adpt, y_adpt, color='blue', alpha=0.6, label='Original')\n",
    "\n",
    "# Predicted data\n",
    "plt.scatter(x_adpt, y_pred, color='red', alpha=0.6, label='Predicted')\n",
    "\n",
    "plt.xlabel(\"Tamanho em m²\")\n",
    "plt.ylabel(\"Valor mensal\")\n",
    "plt.title(\"Original x Predictado após o Quantile + Linear Regression\")\n",
    "plt.legend()\n",
    "plt.show()"
   ]
  }
 ],
 "metadata": {
  "language_info": {
   "name": "python"
  }
 },
 "nbformat": 4,
 "nbformat_minor": 5
}
